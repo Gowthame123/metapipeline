{
 "cells": [
  {
   "cell_type": "code",
   "execution_count": 1,
   "id": "5f8762fd",
   "metadata": {},
   "outputs": [],
   "source": [
    "import sqlite3\n",
    "import pandas as pd\n",
    "\n",
    "# Connect to your database file\n",
    "conn = sqlite3.connect('pipelines.db')\n",
    "\n",
    "# You can now use this connection object to run SQL queries."
   ]
  },
  {
   "cell_type": "code",
   "execution_count": 2,
   "id": "10e42c99",
   "metadata": {},
   "outputs": [
    {
     "name": "stdout",
     "output_type": "stream",
     "text": [
      "Tables in the database: [('data_flow_control_header',), ('data_flow_l0_detail',), ('sqlite_sequence',), ('data_flow_pb_detail',), ('data_flow_cluster_config_lookup',)]\n"
     ]
    }
   ],
   "source": [
    "# Create a cursor object\n",
    "cursor = conn.cursor()\n",
    "\n",
    "# Get a list of all tables\n",
    "cursor.execute(\"SELECT name FROM sqlite_master WHERE type='table';\")\n",
    "tables = cursor.fetchall()\n",
    "print(\"Tables in the database:\", tables)\n",
    "\n",
    "# Close the cursor\n",
    "cursor.close()"
   ]
  },
  {
   "cell_type": "code",
   "execution_count": null,
   "id": "910ec65c",
   "metadata": {},
   "outputs": [],
   "source": [
    "import sqlite3\n",
    "import datetime\n",
    "\n",
    "def _seed_cluster_config_data():\n",
    "    \"\"\"\n",
    "    Seeds the data_flow_cluster_config_lookup table with hardcoded data if it's empty.\n",
    "    \"\"\"\n",
    "    conn = sqlite3.connect('pipelines.db')\n",
    "    cursor = conn.cursor()\n",
    "\n",
    "    # Check if the table is empty before inserting\n",
    "    cursor.execute(\"SELECT COUNT(*) FROM data_flow_cluster_config_lookup\")\n",
    "    if cursor.fetchone()[0] > 0:\n",
    "        conn.close()\n",
    "        return\n",
    "\n",
    "    # Data to be inserted\n",
    "    data = [\n",
    "        ('M_M6', 'M_M6', 2, 8, None, None, None, None, None, None, None, None, 'Y'),\n",
    "        ('L_M6', 'L_M6', 4, 16, None, None, None, None, None, None, None, None, 'Y'),\n",
    "        ('S_M6', 'S_M6', 1, 4, None, None, None, None, None, None, None, None, 'Y'),\n",
    "        ('XL_M6', 'XL_M6', 8, 32, None, None, None, None, None, None, None, None, 'N'),\n",
    "        ('S_I3', 'S_I3', 1, 4, None, None, 'x', None, None, None, None, None, 'Y'),\n",
    "        ('M_I3', 'M_I3', 2, 8, None, None, None, None, None, None, None, None, 'Y'),\n",
    "        ('L_I3', 'L_I3', 4, 16, None, None, None, None, None, None, None, None, 'Y'),\n",
    "        ('XL_I3', 'XL_I3', 8, 32, None, None, None, None, None, None, None, None, 'N'),\n",
    "        ('S_R5', 'S_R5', 1, 4, None, None, None, None, None, None, None, None, 'Y'),\n",
    "        ('M_R5', 'M_R5', 2, 8, None, None, None, None, None, None, None, None, 'Y'),\n",
    "        ('L_R5', 'L_R5', 4, 16, None, None, None, None, None, None, None, None, 'N'),\n",
    "        ('XL_R5', 'XL_R5', 8, 32, None, None, None, None, None, None, None, None, 'N'),\n",
    "        ('S_C5', 'S_C5', 1, 4, None, None, None, None, None, None, None, None, 'Y'),\n",
    "        ('M_C5', 'M_C5', 2, 8, None, None, None, None, None, None, None, None, 'Y'),\n",
    "        ('L_C5', 'L_C5', 4, 16, None, None, None, None, None, None, None, None, 'Y'),\n",
    "        ('XL_C5', 'XL_C5', 8, 32, None, None, None, None, None, None, None, None, 'N'),\n",
    "        ('XXL_C5', 'XXL_C5', 16, 64, None, None, None, None, None, None, None, None, 'N'),\n",
    "        ('Serverless', 'Serverless', None, None, None, None, None, None, None, None, None, None, 'Y'),\n",
    "        ('S_R5_WP', 'S_R5_WP', 1, 4, None, None, None, None, None, None, None, None, 'N'),\n",
    "        ('M_R5_WP', 'M_R5_WP', 2, 8, None, None, None, None, None, None, None, None, 'N'),\n",
    "        ('L_R5_WP', 'L_R5_WP', 4, 16, None, None, None, None, None, None, None, None, 'N'),\n",
    "        ('XL_R5_WP', 'XL_R5_WP', 8, 32, None, None, None, None, None, None, None, None, 'N'),\n",
    "        ('XXL_R5_WP', 'XXL_R5_WP', 16, 64, None, None, None, None, None, None, None, None, 'N'),\n",
    "        ('S_C6_WP', 'S_C6_WP', 1, 4, None, None, None, None, None, None, None, None, 'N'),\n",
    "        ('M_C6_WP', 'M_C6_WP', 2, 8, None, None, None, None, None, None, None, None, 'N'),\n",
    "        ('L_C6_WP', 'L_C6_WP', 4, 16, None, None, None, None, None, None, None, None, 'N'),\n",
    "        ('XL_C6_WP', 'XL_C6_WP', 8, 32, None, None, None, None, None, None, None, None, 'N'),\n",
    "        ('XXL_C6_WP', 'XXL_C6_WP', 16, 64, None, None, None, None, None, None, None, None, 'N')\n",
    "    ]\n",
    "\n",
    "    # Insert the data into the table\n",
    "    cursor.executemany(\"\"\"\n",
    "        INSERT INTO data_flow_cluster_config_lookup (\n",
    "            COMPUTE_CLASS, DESCRIPTION, MIN_WORKER, MAX_WORKER, DRIVER_NODE_TYPE_ID,\n",
    "            WORKER_NODE_TYPE_ID, RUNTIME_ENGINE, SPARK_VERSION, INSERTED_BY, UPDATED_BY,\n",
    "            INSERTED_TS, UPDATED_TS, DEV_ALLOWED\n",
    "        ) VALUES (?, ?, ?, ?, ?, ?, ?, ?, ?, ?, ?, ?, ?)\n",
    "    \"\"\", data)\n",
    "\n",
    "    conn.commit()\n",
    "    conn.close()"
   ]
  },
  {
   "cell_type": "code",
   "execution_count": 3,
   "id": "a56eed08",
   "metadata": {},
   "outputs": [
    {
     "name": "stdout",
     "output_type": "stream",
     "text": [
      "\n",
      "--- data_flow_control_header ---\n",
      "   COMPUTE_CLASS DESCRIPTION  MIN_WORKER  MAX_WORKER DRIVER_NODE_TYPE_ID  \\\n",
      "0           M_M6        M_M6         2.0         8.0                None   \n",
      "1           L_M6        L_M6         4.0        16.0                None   \n",
      "2           S_M6        S_M6         1.0         4.0                None   \n",
      "3          XL_M6       XL_M6         8.0        32.0                None   \n",
      "4           S_I3        S_I3         1.0         4.0                None   \n",
      "5           M_I3        M_I3         2.0         8.0                None   \n",
      "6           L_I3        L_I3         4.0        16.0                None   \n",
      "7          XL_I3       XL_I3         8.0        32.0                None   \n",
      "8           S_R5        S_R5         1.0         4.0                None   \n",
      "9           M_R5        M_R5         2.0         8.0                None   \n",
      "10          L_R5        L_R5         4.0        16.0                None   \n",
      "11         XL_R5       XL_R5         8.0        32.0                None   \n",
      "12          S_C5        S_C5         1.0         4.0                None   \n",
      "13          M_C5        M_C5         2.0         8.0                None   \n",
      "14          L_C5        L_C5         4.0        16.0                None   \n",
      "15         XL_C5       XL_C5         8.0        32.0                None   \n",
      "16        XXL_C5      XXL_C5        16.0        64.0                None   \n",
      "17    Serverless  Serverless         NaN         NaN                None   \n",
      "18       S_R5_WP     S_R5_WP         1.0         4.0                None   \n",
      "19       M_R5_WP     M_R5_WP         2.0         8.0                None   \n",
      "20       L_R5_WP     L_R5_WP         4.0        16.0                None   \n",
      "21      XL_R5_WP    XL_R5_WP         8.0        32.0                None   \n",
      "22     XXL_R5_WP   XXL_R5_WP        16.0        64.0                None   \n",
      "23       S_C6_WP     S_C6_WP         1.0         4.0                None   \n",
      "24       M_C6_WP     M_C6_WP         2.0         8.0                None   \n",
      "25       L_C6_WP     L_C6_WP         4.0        16.0                None   \n",
      "26      XL_C6_WP    XL_C6_WP         8.0        32.0                None   \n",
      "27     XXL_C6_WP   XXL_C6_WP        16.0        64.0                None   \n",
      "\n",
      "   WORKER_NODE_TYPE_ID RUNTIME_ENGINE SPARK_VERSION INSERTED_BY UPDATED_BY  \\\n",
      "0                 None           None          None        None       None   \n",
      "1                 None           None          None        None       None   \n",
      "2                 None           None          None        None       None   \n",
      "3                 None           None          None        None       None   \n",
      "4                 None              x          None        None       None   \n",
      "5                 None           None          None        None       None   \n",
      "6                 None           None          None        None       None   \n",
      "7                 None           None          None        None       None   \n",
      "8                 None           None          None        None       None   \n",
      "9                 None           None          None        None       None   \n",
      "10                None           None          None        None       None   \n",
      "11                None           None          None        None       None   \n",
      "12                None           None          None        None       None   \n",
      "13                None           None          None        None       None   \n",
      "14                None           None          None        None       None   \n",
      "15                None           None          None        None       None   \n",
      "16                None           None          None        None       None   \n",
      "17                None           None          None        None       None   \n",
      "18                None           None          None        None       None   \n",
      "19                None           None          None        None       None   \n",
      "20                None           None          None        None       None   \n",
      "21                None           None          None        None       None   \n",
      "22                None           None          None        None       None   \n",
      "23                None           None          None        None       None   \n",
      "24                None           None          None        None       None   \n",
      "25                None           None          None        None       None   \n",
      "26                None           None          None        None       None   \n",
      "27                None           None          None        None       None   \n",
      "\n",
      "   INSERTED_TS UPDATED_TS DEV_ALLOWED  \n",
      "0         None       None           Y  \n",
      "1         None       None           Y  \n",
      "2         None       None           Y  \n",
      "3         None       None           N  \n",
      "4         None       None           Y  \n",
      "5         None       None           Y  \n",
      "6         None       None           Y  \n",
      "7         None       None           N  \n",
      "8         None       None           Y  \n",
      "9         None       None           Y  \n",
      "10        None       None           N  \n",
      "11        None       None           N  \n",
      "12        None       None           Y  \n",
      "13        None       None           Y  \n",
      "14        None       None           Y  \n",
      "15        None       None           N  \n",
      "16        None       None           N  \n",
      "17        None       None           Y  \n",
      "18        None       None           N  \n",
      "19        None       None           N  \n",
      "20        None       None           N  \n",
      "21        None       None           N  \n",
      "22        None       None           N  \n",
      "23        None       None           N  \n",
      "24        None       None           N  \n",
      "25        None       None           N  \n",
      "26        None       None           N  \n",
      "27        None       None           N  \n"
     ]
    }
   ],
   "source": [
    "query_header = \"SELECT * FROM data_flow_cluster_config_lookup;\"\n",
    "df_headersss = pd.read_sql_query(query_header, conn)\n",
    "print(\"\\n--- data_flow_control_header ---\")\n",
    "print(df_headersss)"
   ]
  },
  {
   "cell_type": "code",
   "execution_count": null,
   "id": "f2e86f6f",
   "metadata": {},
   "outputs": [
    {
     "name": "stdout",
     "output_type": "stream",
     "text": [
      "\n",
      "--- Compute Classes where DEV_ALLOWED = 'Y' ---\n",
      "   COMPUTE_CLASS\n",
      "0           M_M6\n",
      "1           L_M6\n",
      "2           S_M6\n",
      "3           S_I3\n",
      "4           M_I3\n",
      "5           L_I3\n",
      "6           S_R5\n",
      "7           M_R5\n",
      "8           S_C5\n",
      "9           M_C5\n",
      "10          L_C5\n",
      "11    Serverless\n"
     ]
    }
   ],
   "source": [
    "select_com = \"SELECT COMPUTE_CLASS FROM data_flow_cluster_config_lookup WHERE DEV_ALLOWED = 'Y';\"\n",
    "df_compute_classes = pd.read_sql_query(select_com, conn)\n",
    "print(\"\\n--- Compute Classes where DEV_ALLOWED = 'Y' ---\")\n",
    "print(df_compute_classes)"
   ]
  },
  {
   "cell_type": "code",
   "execution_count": 4,
   "id": "b4079771",
   "metadata": {},
   "outputs": [
    {
     "name": "stdout",
     "output_type": "stream",
     "text": [
      "\n",
      "--- data_flow_control_header ---\n",
      "       DATA_FLOW_GROUP_ID                BUSINESS_UNIT  \\\n",
      "0        retail_sales_dwh                       Retail   \n",
      "1  ssssssssssssssssssssss  sssssssssssssssssssssssssss   \n",
      "\n",
      "               PRODUCT_OWNER TRIGGER_TYPE        BUSINESS_OBJECT_NAME  \\\n",
      "0       jane.smith@email.com          DLT          sales_transactions   \n",
      "1  ddddddddddddddddddddddddd          DLT  dddddddddddddddddddddddddd   \n",
      "\n",
      "  ETL_LAYER COMPUTE_CLASS COMPUTE_CLASS_DEV            DATA_SME  \\\n",
      "0        L0          L_C5              L_C5  john.doe@email.com   \n",
      "1        L0          L_C5              L_C5                 sme   \n",
      "\n",
      "   INGESTION_MODE  ... COST_CENTER WARNING_THRESHOLD_MINS WARNING_DL_GROUP  \\\n",
      "0             CDC  ...                                 60        data_team   \n",
      "1  ingestion mode  ...                                  1            group   \n",
      "\n",
      "   min_version max_version  IS_ACTIVE  INSERTED_BY UPDATED_BY INSERTED_TS  \\\n",
      "0          1.0         6.0          Y                                None   \n",
      "1          3.0         5.0          Y                                None   \n",
      "\n",
      "  UPDATED_TS  \n",
      "0       None  \n",
      "1       None  \n",
      "\n",
      "[2 rows x 22 columns]\n"
     ]
    }
   ],
   "source": [
    "query_header = \"SELECT * FROM data_flow_control_header;\"\n",
    "df_header = pd.read_sql_query(query_header, conn)\n",
    "print(\"\\n--- data_flow_control_header ---\")\n",
    "print(df_header)"
   ]
  },
  {
   "cell_type": "code",
   "execution_count": null,
   "id": "e3a3f92c",
   "metadata": {},
   "outputs": [
    {
     "name": "stdout",
     "output_type": "stream",
     "text": [
      "\n",
      "--- data_flow_l0_detail ---\n",
      "   l0_id         DATA_FLOW_GROUP_ID           SOURCE SOURCE_OBJ_SCHEMA  \\\n",
      "0      1  example_pipeline_99df2780  Source_System_A            public   \n",
      "1      2  example_pipeline_99df2780  Source_System_B            public   \n",
      "2      3                       ssss              kkk            dddddd   \n",
      "\n",
      "  SOURCE_OBJ_NAME INPUT_FILE_FORMAT STORAGE_TYPE              CUSTOM_SCHEMA  \\\n",
      "0       customers               csv            R        id int, name string   \n",
      "1          orders              json            R  order_id int, item string   \n",
      "2           ddddd               csv            R                        kkk   \n",
      "\n",
      "  DELIMETER              DQ_LOGIC     CDC_LOGIC              TRANSFORM_QUERY  \\\n",
      "0         ,        NOT NULL on ID  full refresh  SELECT * FROM raw_customers   \n",
      "1            NOT NULL on order_id   append only     SELECT * FROM raw_orders   \n",
      "2      ffff                   kkk       fffffff                          sss   \n",
      "\n",
      "  LOAD_TYPE PRESTAG_FLAG   PARTITION LS_FLAG LS_DETAIL       LOB  \n",
      "0      FULL            Y   load_date       N            Consumer  \n",
      "1     DELTA            Y  order_date       N            Consumer  \n",
      "2      FULL            Y         ggg       Y   sssssss      ssss  \n"
     ]
    }
   ],
   "source": [
    "query_l0 = \"SELECT * FROM data_flow_l0_detail;\"\n",
    "df_l0 = pd.read_sql_query(query_l0, conn)\n",
    "print(\"\\n--- data_flow_l0_detail ---\")\n",
    "print(df_l0)"
   ]
  },
  {
   "cell_type": "code",
   "execution_count": 5,
   "id": "166c85b7",
   "metadata": {},
   "outputs": [
    {
     "name": "stdout",
     "output_type": "stream",
     "text": [
      "\n",
      "--- data_flow_l0_detail ---\n",
      "   pb_id      DATA_FLOW_GROUP_ID   TARGET_OBJ_SCHEMA TARGET_OBJ_NAME PRIORITY  \\\n",
      "0      1  ssssssssssssssssssssss  ssssssssssssssssss  dddddddddddddd   Medium   \n",
      "\n",
      "  TARGET_OBJ_TYPE         TRANSFORM_QUERY       GENERIC_SCRIPTS SOURCE_PK  \\\n",
      "0              MV  ssssssssssssssssssssss  dddddddddddddddddddd             \n",
      "\n",
      "  TARGET_PK LOAD_TYPE PARTITION_METHOD PARTITION_OR_INDEX  \\\n",
      "0                FULL        Partition     ssssssssssssss   \n",
      "\n",
      "    CUSTOM_SCRIPT_PARAMS  RETENTION_DETAILS                   LOB IS_ACTIVE  \\\n",
      "0  sssssssssssssssssssss  sssssssssssssssss  ssssssssssssssssssss         Y   \n",
      "\n",
      "  INSERTED_BY UPDATED_BY  \n",
      "0        None       None  \n"
     ]
    }
   ],
   "source": [
    "query_pd = \"SELECT * FROM data_flow_pb_detail;\"\n",
    "df_pd = pd.read_sql_query(query_pd, conn)\n",
    "print(\"\\n--- data_flow_l0_detail ---\")\n",
    "print(df_pd)"
   ]
  },
  {
   "cell_type": "code",
   "execution_count": null,
   "id": "61d5cd33",
   "metadata": {},
   "outputs": [
    {
     "name": "stdout",
     "output_type": "stream",
     "text": [
      "\n",
      "--- data_flow_l0_detail ---\n",
      "                  name  seq\n",
      "0  data_flow_pb_detail    4\n",
      "1  data_flow_l0_detail    3\n"
     ]
    }
   ],
   "source": [
    "query_p = \"SELECT * FROM sqlite_sequence;\"\n",
    "df_p = pd.read_sql_query(query_p, conn)\n",
    "print(\"\\n--- data_flow_l0_detail ---\")\n",
    "print(df_p)"
   ]
  },
  {
   "cell_type": "code",
   "execution_count": null,
   "id": "a91a27ea",
   "metadata": {},
   "outputs": [],
   "source": []
  },
  {
   "cell_type": "code",
   "execution_count": null,
   "id": "bd10c0a0",
   "metadata": {},
   "outputs": [],
   "source": []
  }
 ],
 "metadata": {
  "kernelspec": {
   "display_name": "youtube",
   "language": "python",
   "name": "python3"
  },
  "language_info": {
   "codemirror_mode": {
    "name": "ipython",
    "version": 3
   },
   "file_extension": ".py",
   "mimetype": "text/x-python",
   "name": "python",
   "nbconvert_exporter": "python",
   "pygments_lexer": "ipython3",
   "version": "3.11.7"
  }
 },
 "nbformat": 4,
 "nbformat_minor": 5
}
